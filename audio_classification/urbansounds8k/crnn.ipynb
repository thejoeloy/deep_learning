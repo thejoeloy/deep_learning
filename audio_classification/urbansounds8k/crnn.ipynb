{
 "cells": [
  {
   "cell_type": "code",
   "execution_count": 1,
   "id": "d373abf5-a129-4e16-8f90-d0b6a0af7b38",
   "metadata": {},
   "outputs": [],
   "source": [
    "import torch\n",
    "import torchaudio\n",
    "from datasets import load_dataset, Audio\n",
    "from torch.utils.data import DataLoader\n",
    "import torch.nn.functional as F\n",
    "from typing import List, Tuple\n",
    "\n",
    "N_FFT = 1024\n",
    "HOP_LENGTH = 512\n",
    "N_MELS = 64\n",
    "SAMPLE_RATE = 16000\n",
    "\n",
    "def create_mel_transform():\n",
    "    return torchaudio.transforms.MelSpectrogram(\n",
    "        sample_rate=SAMPLE_RATE,\n",
    "        n_fft=N_FFT,\n",
    "        hop_length=HOP_LENGTH,\n",
    "        n_mels=N_MELS\n",
    "    )\n",
    "\n",
    "def audio_to_mel_spec(audio_array, mel_transform):\n",
    "    if not isinstance(audio_array, torch.Tensor):\n",
    "        audio_tensor = torch.tensor(audio_array, dtype=torch.float32)\n",
    "    else:\n",
    "        audio_tensor = audio_array.to(dtype=torch.float32)\n",
    "    \n",
    "    mel_spec = mel_transform(audio_tensor)\n",
    "    mel_spec = mel_spec.to(dtype=torch.float32)\n",
    "    mel_spec = torch.log(mel_spec + 1e-9)\n",
    "    mel_spec = mel_spec.unsqueeze(0)\n",
    "    \n",
    "    return mel_spec\n",
    "\n",
    "def preprocess_function(examples):\n",
    "    mel_transform = create_mel_transform()\n",
    "    audio_arrays = [x[\"array\"] for x in examples[\"audio\"]]\n",
    "    \n",
    "    mel_specs = [audio_to_mel_spec(audio, mel_transform) for audio in audio_arrays]\n",
    "    \n",
    "    return {\"input_values\": mel_specs}\n",
    "\n",
    "class AudioDataset(torch.utils.data.Dataset):\n",
    "    def __init__(self, ds):\n",
    "        self.ds = ds\n",
    "    \n",
    "    def __len__(self):\n",
    "        return len(self.ds)\n",
    "    \n",
    "    def __getitem__(self, idx):\n",
    "        item = self.ds[idx]\n",
    "        mel_spec = item[\"input_values\"]\n",
    "        if not isinstance(mel_spec, torch.Tensor):\n",
    "            mel_spec = torch.tensor(mel_spec, dtype=torch.float32)\n",
    "        else:\n",
    "            mel_spec = mel_spec.to(dtype=torch.float32)\n",
    "        label = torch.tensor(item[\"label\"], dtype=torch.long)\n",
    "        return mel_spec, label\n",
    "\n",
    "def collate_fn(batch: List[Tuple[torch.Tensor, torch.Tensor]]) -> Tuple[torch.Tensor, torch.Tensor]:\n",
    "    specs, labels = zip(*batch)\n",
    "    \n",
    "    max_time = max(spec.size(-1) for spec in specs)\n",
    "    \n",
    "    padded_specs = []\n",
    "    for spec in specs:\n",
    "        pad_length = max_time - spec.size(-1)\n",
    "        if pad_length > 0:\n",
    "            padded_spec = F.pad(spec, (0, pad_length))\n",
    "            padded_specs.append(padded_spec)\n",
    "        else:\n",
    "            padded_specs.append(spec)\n",
    "    \n",
    "    specs_tensor = torch.stack(padded_specs)\n",
    "    labels_tensor = torch.stack(labels)\n",
    "    \n",
    "    return specs_tensor, labels_tensor\n",
    "\n",
    "ds = load_dataset(\"danavery/urbansound8K\")\n",
    "ds = ds.remove_columns([\"fsID\", \"start\", \"end\", \"salience\", \"fold\", \"class\"])\n",
    "ds = ds.rename_column(\"slice_file_name\", \"path\")\n",
    "ds = ds.rename_column(\"classID\", \"label\")\n",
    "\n",
    "ds = ds.cast_column(\"audio\", Audio(sampling_rate=SAMPLE_RATE))\n",
    "\n",
    "ds = ds.map(preprocess_function, remove_columns=\"audio\", batched=True)\n",
    "ds = ds[\"train\"].train_test_split(test_size=0.2)\n",
    "\n",
    "train_dataset = AudioDataset(ds[\"train\"])\n",
    "val_dataset = AudioDataset(ds[\"test\"])\n",
    "\n",
    "train_loader = DataLoader(train_dataset, batch_size=32, shuffle=True, num_workers=6, pin_memory=True, collate_fn=collate_fn)\n",
    "val_loader = DataLoader(val_dataset, batch_size=32, shuffle=False, num_workers=6, pin_memory=True, collate_fn=collate_fn)"
   ]
  },
  {
   "cell_type": "code",
   "execution_count": 2,
   "id": "5181d36f-7c88-4456-8e93-2016135de30c",
   "metadata": {},
   "outputs": [
    {
     "name": "stdout",
     "output_type": "stream",
     "text": [
      "CRNN(\n",
      "  (conv1): Conv2d(1, 64, kernel_size=(3, 3), stride=(1, 1), padding=(1, 1))\n",
      "  (pool1): MaxPool2d(kernel_size=2, stride=2, padding=1, dilation=1, ceil_mode=False)\n",
      "  (bn1): BatchNorm2d(64, eps=1e-05, momentum=0.1, affine=True, track_running_stats=True)\n",
      "  (elu1): ELU(alpha=1.0)\n",
      "  (conv2): Conv2d(64, 128, kernel_size=(3, 3), stride=(1, 1), padding=(1, 1))\n",
      "  (pool2): MaxPool2d(kernel_size=4, stride=4, padding=1, dilation=1, ceil_mode=False)\n",
      "  (bn2): BatchNorm2d(128, eps=1e-05, momentum=0.1, affine=True, track_running_stats=True)\n",
      "  (elu2): ELU(alpha=1.0)\n",
      "  (conv3): Conv2d(128, 128, kernel_size=(3, 3), stride=(1, 1), padding=(1, 1))\n",
      "  (pool3): MaxPool2d(kernel_size=4, stride=4, padding=1, dilation=1, ceil_mode=False)\n",
      "  (bn3): BatchNorm2d(128, eps=1e-05, momentum=0.1, affine=True, track_running_stats=True)\n",
      "  (elu3): ELU(alpha=1.0)\n",
      "  (gru1): GRU(256, 32, num_layers=2, batch_first=True, dropout=0.3)\n",
      "  (fc): Linear(in_features=32, out_features=10, bias=True)\n",
      ")\n"
     ]
    }
   ],
   "source": [
    "import torch\n",
    "import torch.nn as nn\n",
    "import torch.nn.functional as F\n",
    "import torchaudio.transforms as transforms\n",
    "\n",
    "device = \"cuda\" if torch.cuda.is_available() else \"cpu\"\n",
    "\n",
    "class CRNN(nn.Module):\n",
    "    def __init__(self, num_classes=10):\n",
    "        super(CRNN, self).__init__()\n",
    "        \n",
    "        self.conv1 = nn.Conv2d(1, 64, kernel_size=3, padding=1)\n",
    "        self.pool1 = nn.MaxPool2d(kernel_size=2, padding=1)\n",
    "        self.bn1 = nn.BatchNorm2d(64)\n",
    "        self.elu1 = nn.ELU()\n",
    "        \n",
    "        self.conv2 = nn.Conv2d(64, 128, kernel_size=3, padding=1)\n",
    "        self.pool2 = nn.MaxPool2d(kernel_size=4, padding=1)\n",
    "        self.bn2 = nn.BatchNorm2d(128)\n",
    "        self.elu2 = nn.ELU()\n",
    "        \n",
    "        self.conv3 = nn.Conv2d(128, 128, kernel_size=3, padding=1)\n",
    "        self.pool3 = nn.MaxPool2d(kernel_size=4, padding=1)\n",
    "        self.bn3 = nn.BatchNorm2d(128)\n",
    "        self.elu3 = nn.ELU()\n",
    "        \n",
    "        self.gru1 = nn.GRU(input_size=256, hidden_size=32, num_layers=2, batch_first=True, dropout=0.3)        \n",
    "        self.fc = nn.Linear(32, num_classes)  # Output size corresponds to the number of classes\n",
    "        \n",
    "    def forward(self, x):\n",
    "        x = self.elu1(self.bn1(self.pool1(self.conv1(x))))\n",
    "        x = self.elu2(self.bn2(self.pool2(self.conv2(x))))\n",
    "        x = self.elu3(self.bn3(self.pool3(self.conv3(x))))        \n",
    "        batch_size, channels, height, width = x.size()\n",
    "        x = x.view(batch_size, width, channels * height)\n",
    "        x, _ = self.gru1(x)        \n",
    "        x = x[:, -1, :]        \n",
    "        x = self.fc(x)\n",
    "        \n",
    "        return F.log_softmax(x, dim=1)\n",
    "\n",
    "model = CRNN().to(device)\n",
    "print(model)"
   ]
  },
  {
   "cell_type": "code",
   "execution_count": 3,
   "id": "d3c405fe-a6b2-4487-b292-28db4f45960d",
   "metadata": {},
   "outputs": [
    {
     "name": "stderr",
     "output_type": "stream",
     "text": [
      "/tmp/ipykernel_500536/3775931445.py:8: FutureWarning: `torch.cuda.amp.GradScaler(args...)` is deprecated. Please use `torch.amp.GradScaler('cuda', args...)` instead.\n",
      "  scaler = torch.cuda.amp.GradScaler()\n",
      "Epoch 1/20 - Training:   0%|                            | 0/219 [00:00<?, ?it/s]/tmp/ipykernel_500536/3775931445.py:20: FutureWarning: `torch.cuda.amp.autocast(args...)` is deprecated. Please use `torch.amp.autocast('cuda', args...)` instead.\n",
      "  with torch.cuda.amp.autocast():\n",
      "Epoch 1/20 - Validation:   0%|                           | 0/55 [00:00<?, ?it/s]/tmp/ipykernel_500536/3775931445.py:44: FutureWarning: `torch.cuda.amp.autocast(args...)` is deprecated. Please use `torch.amp.autocast('cuda', args...)` instead.\n",
      "  with torch.cuda.amp.autocast():\n",
      "                                                                                \r"
     ]
    },
    {
     "name": "stdout",
     "output_type": "stream",
     "text": [
      "Epoch [1/20], Training Loss: 1.8927, Validation Loss: 1.6121, Validation Accuracy: 54.55%\n"
     ]
    },
    {
     "name": "stderr",
     "output_type": "stream",
     "text": [
      "                                                                                \r"
     ]
    },
    {
     "name": "stdout",
     "output_type": "stream",
     "text": [
      "Epoch [2/20], Training Loss: 1.3325, Validation Loss: 1.0904, Validation Accuracy: 70.23%\n"
     ]
    },
    {
     "name": "stderr",
     "output_type": "stream",
     "text": [
      "                                                                                \r"
     ]
    },
    {
     "name": "stdout",
     "output_type": "stream",
     "text": [
      "Epoch [3/20], Training Loss: 0.9611, Validation Loss: 0.8183, Validation Accuracy: 79.28%\n"
     ]
    },
    {
     "name": "stderr",
     "output_type": "stream",
     "text": [
      "                                                                                \r"
     ]
    },
    {
     "name": "stdout",
     "output_type": "stream",
     "text": [
      "Epoch [4/20], Training Loss: 0.7250, Validation Loss: 0.6552, Validation Accuracy: 82.66%\n"
     ]
    },
    {
     "name": "stderr",
     "output_type": "stream",
     "text": [
      "                                                                                \r"
     ]
    },
    {
     "name": "stdout",
     "output_type": "stream",
     "text": [
      "Epoch [5/20], Training Loss: 0.5389, Validation Loss: 0.5154, Validation Accuracy: 87.41%\n"
     ]
    },
    {
     "name": "stderr",
     "output_type": "stream",
     "text": [
      "                                                                                \r"
     ]
    },
    {
     "name": "stdout",
     "output_type": "stream",
     "text": [
      "Epoch [6/20], Training Loss: 0.4000, Validation Loss: 0.4673, Validation Accuracy: 87.69%\n"
     ]
    },
    {
     "name": "stderr",
     "output_type": "stream",
     "text": [
      "                                                                                \r"
     ]
    },
    {
     "name": "stdout",
     "output_type": "stream",
     "text": [
      "Epoch [7/20], Training Loss: 0.3122, Validation Loss: 0.4267, Validation Accuracy: 88.21%\n"
     ]
    },
    {
     "name": "stderr",
     "output_type": "stream",
     "text": [
      "                                                                                \r"
     ]
    },
    {
     "name": "stdout",
     "output_type": "stream",
     "text": [
      "Epoch [8/20], Training Loss: 0.2467, Validation Loss: 0.3778, Validation Accuracy: 89.07%\n"
     ]
    },
    {
     "name": "stderr",
     "output_type": "stream",
     "text": [
      "                                                                                \r"
     ]
    },
    {
     "name": "stdout",
     "output_type": "stream",
     "text": [
      "Epoch [9/20], Training Loss: 0.2008, Validation Loss: 0.3231, Validation Accuracy: 90.15%\n"
     ]
    },
    {
     "name": "stderr",
     "output_type": "stream",
     "text": [
      "                                                                                \r"
     ]
    },
    {
     "name": "stdout",
     "output_type": "stream",
     "text": [
      "Epoch [10/20], Training Loss: 0.1552, Validation Loss: 0.2976, Validation Accuracy: 91.87%\n"
     ]
    },
    {
     "name": "stderr",
     "output_type": "stream",
     "text": [
      "                                                                                \r"
     ]
    },
    {
     "name": "stdout",
     "output_type": "stream",
     "text": [
      "Epoch [11/20], Training Loss: 0.1299, Validation Loss: 0.3092, Validation Accuracy: 90.56%\n"
     ]
    },
    {
     "name": "stderr",
     "output_type": "stream",
     "text": [
      "                                                                                \r"
     ]
    },
    {
     "name": "stdout",
     "output_type": "stream",
     "text": [
      "Epoch [12/20], Training Loss: 0.1078, Validation Loss: 0.2675, Validation Accuracy: 92.39%\n"
     ]
    },
    {
     "name": "stderr",
     "output_type": "stream",
     "text": [
      "                                                                                \r"
     ]
    },
    {
     "name": "stdout",
     "output_type": "stream",
     "text": [
      "Epoch [13/20], Training Loss: 0.0885, Validation Loss: 0.3038, Validation Accuracy: 90.61%\n"
     ]
    },
    {
     "name": "stderr",
     "output_type": "stream",
     "text": [
      "                                                                                \r"
     ]
    },
    {
     "name": "stdout",
     "output_type": "stream",
     "text": [
      "Epoch [14/20], Training Loss: 0.0668, Validation Loss: 0.2795, Validation Accuracy: 92.44%\n"
     ]
    },
    {
     "name": "stderr",
     "output_type": "stream",
     "text": [
      "                                                                                \r"
     ]
    },
    {
     "name": "stdout",
     "output_type": "stream",
     "text": [
      "Epoch [15/20], Training Loss: 0.0549, Validation Loss: 0.3230, Validation Accuracy: 90.67%\n"
     ]
    },
    {
     "name": "stderr",
     "output_type": "stream",
     "text": [
      "                                                                                \r"
     ]
    },
    {
     "name": "stdout",
     "output_type": "stream",
     "text": [
      "Epoch [16/20], Training Loss: 0.0629, Validation Loss: 0.3309, Validation Accuracy: 89.93%\n"
     ]
    },
    {
     "name": "stderr",
     "output_type": "stream",
     "text": [
      "                                                                                \r"
     ]
    },
    {
     "name": "stdout",
     "output_type": "stream",
     "text": [
      "Epoch [17/20], Training Loss: 0.0457, Validation Loss: 0.3692, Validation Accuracy: 89.87%\n"
     ]
    },
    {
     "name": "stderr",
     "output_type": "stream",
     "text": [
      "                                                                                \r"
     ]
    },
    {
     "name": "stdout",
     "output_type": "stream",
     "text": [
      "Epoch [18/20], Training Loss: 0.0450, Validation Loss: 0.3350, Validation Accuracy: 90.44%\n"
     ]
    },
    {
     "name": "stderr",
     "output_type": "stream",
     "text": [
      "                                                                                \r"
     ]
    },
    {
     "name": "stdout",
     "output_type": "stream",
     "text": [
      "Epoch [19/20], Training Loss: 0.0388, Validation Loss: 0.3331, Validation Accuracy: 90.61%\n"
     ]
    },
    {
     "name": "stderr",
     "output_type": "stream",
     "text": [
      "                                                                                "
     ]
    },
    {
     "name": "stdout",
     "output_type": "stream",
     "text": [
      "Epoch [20/20], Training Loss: 0.0324, Validation Loss: 0.3420, Validation Accuracy: 90.84%\n",
      "Training complete.\n"
     ]
    },
    {
     "name": "stderr",
     "output_type": "stream",
     "text": [
      "\r"
     ]
    }
   ],
   "source": [
    "import torch.optim as optim\n",
    "from tqdm import tqdm\n",
    "\n",
    "model.train()\n",
    "\n",
    "loss_fn = torch.nn.CrossEntropyLoss()\n",
    "optimizer = torch.optim.AdamW(model.parameters(), lr=2e-4, weight_decay=0.01)\n",
    "scaler = torch.cuda.amp.GradScaler()\n",
    "\n",
    "num_epochs = 20\n",
    "for epoch in range(num_epochs):\n",
    "    model.train()  \n",
    "    running_loss = 0.0\n",
    "    \n",
    "    train_progress_bar = tqdm(train_loader, desc=f\"Epoch {epoch + 1}/{num_epochs} - Training\", leave=False)\n",
    "    for inputs, labels in train_progress_bar:\n",
    "        inputs, labels = inputs.to(device), labels.to(device)  \n",
    "        optimizer.zero_grad()\n",
    "\n",
    "        with torch.cuda.amp.autocast():  \n",
    "            outputs = model(inputs)\n",
    "            loss = loss_fn(outputs, labels)\n",
    "\n",
    "        scaler.scale(loss).backward() \n",
    "        scaler.step(optimizer) \n",
    "        scaler.update() \n",
    "\n",
    "        running_loss += loss.item()\n",
    "        \n",
    "        train_progress_bar.set_postfix(loss=loss.item())\n",
    "\n",
    "    avg_loss = running_loss / len(train_loader)\n",
    "\n",
    "    model.eval() \n",
    "    running_val_loss = 0.0\n",
    "    correct = 0\n",
    "    total = 0\n",
    "\n",
    "    val_progress_bar = tqdm(val_loader, desc=f\"Epoch {epoch + 1}/{num_epochs} - Validation\", leave=False)\n",
    "    with torch.no_grad():  \n",
    "        for inputs, labels in val_progress_bar:  \n",
    "            inputs, labels = inputs.to(device), labels.to(device)\n",
    "\n",
    "            with torch.cuda.amp.autocast(): \n",
    "                outputs = model(inputs)\n",
    "                loss = loss_fn(outputs, labels)\n",
    "                \n",
    "            running_val_loss += loss.item()\n",
    "\n",
    "            _, predicted = torch.max(outputs, 1)\n",
    "            total += labels.size(0)\n",
    "            correct += (predicted == labels).sum().item()\n",
    "\n",
    "            val_progress_bar.set_postfix(loss=loss.item())\n",
    "\n",
    "    avg_val_loss = running_val_loss / len(val_loader)\n",
    "    accuracy = correct / total * 100  \n",
    "    \n",
    "    print(f\"Epoch [{epoch + 1}/{num_epochs}], \"\n",
    "          f\"Training Loss: {avg_loss:.4f}, \"\n",
    "          f\"Validation Loss: {avg_val_loss:.4f}, \"\n",
    "          f\"Validation Accuracy: {accuracy:.2f}%\")\n",
    "print(\"Training complete.\")"
   ]
  },
  {
   "cell_type": "code",
   "execution_count": null,
   "id": "e206b69f-3f26-4abe-9add-905d77edad88",
   "metadata": {},
   "outputs": [],
   "source": []
  }
 ],
 "metadata": {
  "kernelspec": {
   "display_name": "Python 3 (ipykernel)",
   "language": "python",
   "name": "python3"
  },
  "language_info": {
   "codemirror_mode": {
    "name": "ipython",
    "version": 3
   },
   "file_extension": ".py",
   "mimetype": "text/x-python",
   "name": "python",
   "nbconvert_exporter": "python",
   "pygments_lexer": "ipython3",
   "version": "3.11.7"
  }
 },
 "nbformat": 4,
 "nbformat_minor": 5
}
